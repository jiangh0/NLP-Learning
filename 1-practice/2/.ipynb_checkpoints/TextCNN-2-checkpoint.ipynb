{
 "cells": [
  {
   "cell_type": "code",
   "execution_count": 1,
   "metadata": {},
   "outputs": [],
   "source": [
    "import torch\n",
    "import torch.nn as nn\n",
    "from torch.autograd import Variable\n",
    "import torch.optim as optim\n",
    "import torch.nn.functional as F\n",
    "import nltk\n",
    "import random\n",
    "import numpy as np\n",
    "from collections import Counter, OrderedDict\n",
    "import nltk\n",
    "import re\n",
    "from copy import deepcopy\n",
    "random.seed(1024)"
   ]
  },
  {
   "cell_type": "code",
   "execution_count": 2,
   "metadata": {},
   "outputs": [],
   "source": [
    "USE_CUDA = torch.cuda.is_available()\n",
    "if USE_CUDA:\n",
    "    gpus = [0]\n",
    "    torch.cuda.set_device(gpus[0])\n",
    "\n",
    "FloatTensor = torch.cuda.FloatTensor if USE_CUDA else torch.FloatTensor\n",
    "LongTensor = torch.cuda.LongTensor if USE_CUDA else torch.LongTensor\n",
    "ByteTensor = torch.cuda.ByteTensor if USE_CUDA else torch.ByteTensor"
   ]
  },
  {
   "cell_type": "code",
   "execution_count": 3,
   "metadata": {},
   "outputs": [],
   "source": [
    "#将data随机排序在分成若干个size相同的batch(最后一个batch的size不确定)\n",
    "def get_batch(batch_size, train_data):\n",
    "    random.shuffle(train_data)      #将列表随机排序\n",
    "    start_index = 0\n",
    "    end_index = batch_size\n",
    "    while end_index < len(train_data):\n",
    "        batch = train_data[start_index: end_index]\n",
    "        start_index = end_index\n",
    "        end_index += batch_size\n",
    "        yield batch\n",
    "    if end_index >= len(train_data):\n",
    "        batch = train_data[start_index:]\n",
    "        yield batch"
   ]
  },
  {
   "cell_type": "code",
   "execution_count": 4,
   "metadata": {},
   "outputs": [],
   "source": [
    "def pad_batch(batch):\n",
    "    x, y = zip(*batch)\n",
    "    max_x = max([s.size(1) for s in x])\n",
    "    x_p = []\n",
    "    for i in range(len(batch)):\n",
    "        if x[i].size(1) < max_x:\n",
    "#             [x[i], Variable(LongTensor([word2index['<PAD>']] * (max_x - x[i].size(1)))).view(1, -1)]\n",
    "            x_p.append(torch.cat([x[i], Variable(LongTensor([word2index['<PAD>']] * (max_x - x[i].size(1)))).view(1, -1)], 1))\n",
    "        else:\n",
    "            x_p.append(x[i])\n",
    "    return torch.cat(x_p), torch.cat(y).view(-1)"
   ]
  },
  {
   "cell_type": "code",
   "execution_count": 5,
   "metadata": {},
   "outputs": [],
   "source": [
    "def prepare_sequence(seq, to_index):\n",
    "    idxs = list(map(lambda w: to_index[w] if to_index[w] is not None else to_index['<UNK>'], seq))\n",
    "    return Variable(LongTensor(idxs))"
   ]
  },
  {
   "cell_type": "code",
   "execution_count": 6,
   "metadata": {},
   "outputs": [],
   "source": [
    "#Data load & Preprocessing      http://cogcomp.org/Data/QA/QC/\n",
    "data = open('./train_5500.label.txt', 'r', encoding='latin-1').readlines()\n",
    "data = [[d.split(':')[1][:], d.split(':')[0]] for d in data]\n",
    "X, y = list(zip(*data))  #将每行的标记和问题分离\n",
    "X = list(X)\n",
    "for i, x in enumerate(X):\n",
    "    X[i] = re.sub('\\d', '#', x).split()     #将问题中的数字用#代替，换行符去掉，并将句子的单词划开"
   ]
  },
  {
   "cell_type": "code",
   "execution_count": 7,
   "metadata": {},
   "outputs": [],
   "source": [
    "#构造字典\n",
    "flatten = lambda l: [item for sublist in l for item in sublist]\n",
    "vocab = list(set(flatten(X)))   #将X降维去重后转成list\n",
    "\n",
    "word2index={'<PAD>': 0, '<UNK>': 1}\n",
    "for v in vocab:\n",
    "    if word2index.get(v) is None:\n",
    "        word2index[v] = len(word2index)\n",
    "index2word = {v:k for k, v in word2index.items()}\n",
    "\n",
    "target2index = {}\n",
    "for cl in set(y):\n",
    "    if target2index.get(cl) is None:\n",
    "        target2index[cl] = len(target2index)\n",
    "index2target = {v:k for k, v in target2index.items()}"
   ]
  },
  {
   "cell_type": "code",
   "execution_count": 12,
   "metadata": {},
   "outputs": [
    {
     "name": "stdout",
     "output_type": "stream",
     "text": [
      "[['manner', 'How', 'did', 'serfdom', 'develop', 'in', 'and', 'then', 'leave', 'Russia', '?'], ['cremat', 'What', 'films', 'featured', 'the', 'character', 'Popeye', 'Doyle', '?'], ['manner', 'How', 'can', 'I', 'find', 'a', 'list', 'of', 'celebrities', \"'\", 'real', 'names', '?']] ('DESC', 'ENTY', 'DESC')\n"
     ]
    }
   ],
   "source": [
    "#划分数据集\n",
    "X_p, y_p = [], []\n",
    "# print(X[:3], y[:3])\n",
    "for pair in zip(X, y):\n",
    "    X_p.append(prepare_sequence(pair[0], word2index).view(1, -1))\n",
    "    y_p.append(Variable(LongTensor([target2index[pair[1]]])).view(1, -1))\n",
    "data_p = list(zip(X_p, y_p))\n",
    "random.shuffle(data_p)   #改变顺序\n",
    "\n",
    "#划分训练集和测试集\n",
    "train_data = data_p[: int(len(data_p) * 0.9)]\n",
    "test_data = data_p[int(len(data_p) * 0.9):]"
   ]
  },
  {
   "cell_type": "code",
   "execution_count": 13,
   "metadata": {},
   "outputs": [],
   "source": [
    "#Load Pretrained word vector   https://github.com/mmihaltz/word2vec-GoogleNews-vectors\n",
    "# import gensim\n",
    "# model = gensim.models.KeyedVectors.load_word2vec_format('../dataset/GoogleNews-vectors-negative300.bin', binary=True)\n",
    "# pretrained = []\n",
    "# for key in word2index.keys():\n",
    "#     try:\n",
    "#         pretrained.append(model[word2index[key]])\n",
    "#     except:\n",
    "#         pretrained.append(np.random.randn(300))\n",
    "# pretrained_vectors = np.vstack(pretrained)"
   ]
  },
  {
   "cell_type": "code",
   "execution_count": 14,
   "metadata": {},
   "outputs": [],
   "source": [
    "#Model\n",
    "class CNN(nn.Module):\n",
    "    def __init__(self, vocab_size, embedding_dim, output_size, kernel_dim=100, kernel_sizes=(3, 4, 5), dropout=0.5):\n",
    "        super().__init__()\n",
    "        self.embedding = nn.Embedding(vocab_size, embedding_dim)\n",
    "        self.convs = nn.ModuleList(nn.Conv2d(1, kernel_dim, (k, embedding_dim)) for k in kernel_sizes)\n",
    "        self.dropout = nn.Dropout(dropout)\n",
    "        self.decoder = nn.Linear(len(kernel_sizes) * kernel_dim, output_size)\n",
    "#         self.pool = F.max_pool1d()\n",
    "\n",
    "    def init_wight(self):\n",
    "        pass\n",
    "\n",
    "    def forward(self, inputs, is_training=False):\n",
    "        inputs = self.embedding(inputs).unsqueeze(1)   #增加一个维度\n",
    "        inputs = [F.relu(conv(inputs)).squeeze(3) for conv in self.convs]\n",
    "        inputs = [F.max_pool1d(i, i.size(2)).squeeze(2) for i in inputs]\n",
    "        concated = torch.cat(inputs, 1)\n",
    "\n",
    "        if is_training:\n",
    "            concated = self.dropout(concated)\n",
    "        out = self.decoder(concated)\n",
    "        return out"
   ]
  },
  {
   "cell_type": "code",
   "execution_count": 15,
   "metadata": {},
   "outputs": [
    {
     "name": "stdout",
     "output_type": "stream",
     "text": [
      "[0/5] mean_loss: 1.93\n",
      "[1/5] mean_loss: 0.21\n",
      "[2/5] mean_loss: 0.05\n",
      "[3/5] mean_loss: 0.01\n",
      "[4/5] mean_loss: 0.02\n"
     ]
    }
   ],
   "source": [
    "#Train\n",
    "EPOCH = 5\n",
    "BATCH_SIZE = 50\n",
    "KERNEL_SIZES = [3,4,5]\n",
    "KERNEL_DIM = 100\n",
    "\n",
    "model = CNN(len(word2index), 300, len(target2index), KERNEL_DIM, KERNEL_SIZES)\n",
    "\n",
    "criterion = nn.CrossEntropyLoss()\n",
    "optimizer = optim.Adam(model.parameters(), lr = 0.001)\n",
    "\n",
    "for epoch in range(EPOCH):\n",
    "    losses = []\n",
    "    for i, batch in enumerate(get_batch(BATCH_SIZE, train_data)):\n",
    "        inputs, targets = pad_batch(batch)\n",
    "        optimizer.zero_grad()\n",
    "        \n",
    "        preds = model(inputs, True)\n",
    "        loss = criterion(preds, targets)\n",
    "        losses.append(loss.detach().numpy())\n",
    "        loss.backward()\n",
    "        optimizer.step()\n",
    "\n",
    "        if i % 100 == 0:\n",
    "            print(\"[%d/%d] mean_loss: %0.2f\" %(epoch, EPOCH, np.mean(losses)))\n",
    "            losses = []"
   ]
  },
  {
   "cell_type": "code",
   "execution_count": 17,
   "metadata": {},
   "outputs": [
    {
     "name": "stdout",
     "output_type": "stream",
     "text": [
      "97.98534798534799\n"
     ]
    }
   ],
   "source": [
    "#Test\n",
    "acc = 0\n",
    "inputs, targets = pad_batch(test_data)\n",
    "\n",
    "predicts = model(inputs).data.max(1, keepdim=True)[1]\n",
    "predicts = predicts.view(-1)\n",
    "targets = targets.view(-1)\n",
    "for pred, t in zip(predicts, targets):\n",
    "    if pred == t:\n",
    "        acc += 1\n",
    "    \n",
    "print(acc/len(test_data) * 100)"
   ]
  },
  {
   "cell_type": "code",
   "execution_count": 18,
   "metadata": {},
   "outputs": [
    {
     "data": {
      "text/plain": [
       "'完成'"
      ]
     },
     "execution_count": 18,
     "metadata": {},
     "output_type": "execute_result"
    }
   ],
   "source": [
    "'''完成'''"
   ]
  },
  {
   "cell_type": "code",
   "execution_count": null,
   "metadata": {},
   "outputs": [],
   "source": []
  }
 ],
 "metadata": {
  "kernelspec": {
   "display_name": "Python 3",
   "language": "python",
   "name": "python3"
  },
  "language_info": {
   "codemirror_mode": {
    "name": "ipython",
    "version": 3
   },
   "file_extension": ".py",
   "mimetype": "text/x-python",
   "name": "python",
   "nbconvert_exporter": "python",
   "pygments_lexer": "ipython3",
   "version": "3.7.6"
  }
 },
 "nbformat": 4,
 "nbformat_minor": 4
}
