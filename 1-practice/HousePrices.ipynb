{
 "cells": [
  {
   "cell_type": "code",
   "execution_count": 224,
   "metadata": {},
   "outputs": [
    {
     "data": {
      "text/plain": [
       "'\\nKaggle题目:https://www.kaggle.com/c/house-prices-advanced-regression-techniques/overview\\n参考https://tangshusen.me/Dive-into-DL-PyTorch/#/chapter03_DL-basics/3.16_kaggle-house-price\\n'"
      ]
     },
     "execution_count": 224,
     "metadata": {},
     "output_type": "execute_result"
    }
   ],
   "source": [
    "import torch\n",
    "import numpy as np\n",
    "import torch.nn as nn\n",
    "import pandas as pd\n",
    "import torch.utils.data as Data\n",
    "%matplotlib inline\n",
    "'''\n",
    "Kaggle题目:https://www.kaggle.com/c/house-prices-advanced-regression-techniques/overview\n",
    "参考https://tangshusen.me/Dive-into-DL-PyTorch/#/chapter03_DL-basics/3.16_kaggle-house-price\n",
    "'''"
   ]
  },
  {
   "cell_type": "code",
   "execution_count": 225,
   "metadata": {},
   "outputs": [
    {
     "data": {
      "text/plain": [
       "((1460, 81), (1459, 80))"
      ]
     },
     "execution_count": 225,
     "metadata": {},
     "output_type": "execute_result"
    }
   ],
   "source": [
    "train_data = pd.read_csv('./house-prices-advanced-regression-techniques/train.csv')\n",
    "test_data = pd.read_csv('./house-prices-advanced-regression-techniques/test.csv')\n",
    "\n",
    "train_data.shape, test_data.shape  #train_data比test_data多一个价格"
   ]
  },
  {
   "cell_type": "code",
   "execution_count": 226,
   "metadata": {},
   "outputs": [],
   "source": [
    "all_features = pd.concat((train_data.iloc[:, 1:-1], test_data.iloc[:, 1:]))  #将训练集和测试集去掉id后拼接 (2919, 79),\n",
    "numeric_features = all_features.dtypes[all_features.dtypes != 'object'].index    #数据非数字的属性名list\n",
    "# 对连续数值的特征做标准化,对于缺失的特征值将其替换成该特征的均值。\n",
    "all_features[numeric_features] = all_features[numeric_features].apply(\n",
    "    lambda x: (x - x.mean()) / (x.std()))\n",
    "all_features[numeric_features] = all_features[numeric_features].fillna(0)  #标准化后每个数值特征均值为0，直接用0替换缺失值\n",
    "\n",
    "# 将离散数值转成指示特征 i.e 去掉MSZoning特征，并新加两个特征MSZoning_RL和MSZoning_RM,其值为0或1\n",
    "# dummy_na=True将缺失值也当作合法的特征值并为其创建指示特征\n",
    "all_features = pd.get_dummies(all_features, dummy_na=True)  # (2919, 331)\n",
    "\n",
    "#获取处理后的训练集和测试集\n",
    "n_train = train_data.shape[0]\n",
    "train_features = torch.tensor(all_features[:n_train].values, dtype=torch.float)\n",
    "test_features = torch.tensor(all_features[n_train:].values, dtype=torch.float)\n",
    "train_labels = torch.tensor(train_data.SalePrice.values, dtype=torch.float).view(-1, 1)"
   ]
  },
  {
   "cell_type": "code",
   "execution_count": 227,
   "metadata": {},
   "outputs": [],
   "source": [
    "class Net(nn.Module):\n",
    "    def __init__(self, input_size, output_size):\n",
    "        super(Net, self).__init__()\n",
    "        self.linear = nn.Linear(input_size, output_size)\n",
    "        \n",
    "    def forward(self, X):\n",
    "        outputs = self.linear(X)\n",
    "        return outputs\n",
    "\n",
    "#对数均方根误差,用来评价模型\n",
    "def log_rmse(net, features, labels):\n",
    "    with torch.no_grad():\n",
    "        # 将小于1的值设成1，使得取对数时数值更稳定\n",
    "        clipped_preds = torch.max(net(features), torch.tensor(1.0))\n",
    "        criterion = nn.MSELoss()\n",
    "        rmse = torch.sqrt(2 * criterion(clipped_preds.log(), labels.log()).mean())\n",
    "    return rmse.item()"
   ]
  },
  {
   "cell_type": "code",
   "execution_count": 228,
   "metadata": {},
   "outputs": [],
   "source": [
    "#K折交叉验证,返回第i折交叉验证时所需要的训练和验证数据\n",
    "def get_k_flod_data(k, X, y):\n",
    "    assert k > 1\n",
    "    fold_size = X.shape[0] // k   #1460/5 = 292\n",
    "    X_train, y_train = None, None\n",
    "    for i in range(k):\n",
    "        start_idx, end_idx = i * fold_size, (i + 1) * fold_size\n",
    "        idx = slice(start_idx, end_idx)\n",
    "        X_valid, y_valid = X[idx, :], y[idx]\n",
    "        X_train, y_train = torch.cat((X[:start_idx], X[end_idx:]), dim=0), torch.cat((y[:start_idx], y[end_idx:]), dim=0)\n",
    "        yield (X_train, y_train, X_valid, y_valid)\n",
    "\n",
    "\n",
    "# def k_flod(k, X_train, y_train, num_epochs, learning_rate, weight_decay, batch_size):\n",
    "#     train_loss_sum, vaild_loss_sum = 0, 0\n",
    "#     for i in range(5):\n",
    "#         data = get_k_flod_data(k, i ,X_train, y_train)\n",
    "#         model = Net()\n",
    "#         train_ls, valid_ls = train(net, *data, num_epochs, learning_rate,\n",
    "#                                    weight_decay, batch_size)\n",
    "#         train_loss_sum += train_ls[-1]\n",
    "#         vaild_loss_sum += valid_ls[-1]\n",
    "#         if i == 0:\n",
    "#             d2l.semilogy(range(1, num_epochs + 1), train_ls, 'epochs', 'rmse',\n",
    "#                          range(1, num_epochs + 1), valid_ls,\n",
    "#                          ['train', 'valid'])\n",
    "#         print('fold %d, train rmse %f, valid rmse %f' % (i, train_ls[-1], valid_ls[-1]))\n",
    "#     return train_l_sum/k, valid_l_sum/k\n",
    "        \n",
    "  \n",
    "# k, num_epochs, lr, weight_decay, batch_size = 5, 100, 5, 0, 64\n",
    "# train_l, valid_l = k_fold(k, train_features, train_labels, num_epochs, lr, weight_decay, batch_size)\n",
    "# print('%d-fold validation: avg train rmse %f, avg valid rmse %f' % (k, train_l, valid_l))"
   ]
  },
  {
   "cell_type": "code",
   "execution_count": 229,
   "metadata": {},
   "outputs": [
    {
     "name": "stdout",
     "output_type": "stream",
     "text": [
      "fold 0, train rmse 0.240801, valid rmse 0.222089\n",
      "fold 1, train rmse 0.200362, valid rmse 0.214741\n",
      "fold 2, train rmse 0.181916, valid rmse 0.194018\n",
      "fold 3, train rmse 0.182988, valid rmse 0.176709\n",
      "fold 4, train rmse 0.170414, valid rmse 0.207701\n",
      "5-fold validation: avg train rmse 0.195296, avg valid rmse 0.203052\n"
     ]
    }
   ],
   "source": [
    "batch_size, input_size, output_size, k = 64, train_features.shape[1], 1, 5\n",
    "model = Net(input_size, output_size)\n",
    "optimizer = torch.torch.optim.Adam(model.parameters(), lr=5)\n",
    "\n",
    "train_loss_sum, valid_loss_sum = 0, 0\n",
    "k_data = get_k_flod_data(k, train_features, train_labels)\n",
    "for i in range(k):\n",
    "    train_features, train_labels, valid_features, valid_labels = next(k_data)\n",
    "    \n",
    "    train_loss, valid_loss = [], []\n",
    "    for epoch in range(100):\n",
    "        train_dataset = Data.TensorDataset(train_features, train_labels)\n",
    "        train_iter = Data.DataLoader(train_dataset, batch_size, shuffle=True)\n",
    "        for X, Y in train_iter:\n",
    "            optimizer.zero_grad()\n",
    "            outputs = model(X)\n",
    "            loss = criterion(outputs, Y)\n",
    "            loss.backward()\n",
    "            optimizer.step()\n",
    "        train_loss.append(log_rmse(model, train_features, train_labels))\n",
    "        if valid_labels is not None:\n",
    "            valid_loss.append(log_rmse(model, valid_features, valid_labels))\n",
    "    train_loss_sum += train_loss[-1]\n",
    "    valid_loss_sum += valid_loss[-1]\n",
    "    print('fold %d, train rmse %f, valid rmse %f' % (i, train_loss[-1], valid_loss[-1]))\n",
    "print('%d-fold validation: avg train rmse %f, avg valid rmse %f' % (k, train_loss_sum / k, valid_loss_sum / k))"
   ]
  },
  {
   "cell_type": "code",
   "execution_count": 230,
   "metadata": {},
   "outputs": [],
   "source": [
    "preds = model(test_features).detach().numpy()\n",
    "test_data['SalePrice'] = pd.Series(preds.reshape(1, -1)[0])\n",
    "submission = pd.concat([test_data['Id'], test_data['SalePrice']], axis=1)\n",
    "submission.to_csv('./submission.csv', index=False)"
   ]
  },
  {
   "cell_type": "code",
   "execution_count": 231,
   "metadata": {},
   "outputs": [
    {
     "data": {
      "text/plain": [
       "' 完成 '"
      ]
     },
     "execution_count": 231,
     "metadata": {},
     "output_type": "execute_result"
    }
   ],
   "source": [
    "''' 完成 '''"
   ]
  },
  {
   "cell_type": "code",
   "execution_count": null,
   "metadata": {},
   "outputs": [],
   "source": []
  }
 ],
 "metadata": {
  "kernelspec": {
   "display_name": "Python 3",
   "language": "python",
   "name": "python3"
  },
  "language_info": {
   "codemirror_mode": {
    "name": "ipython",
    "version": 3
   },
   "file_extension": ".py",
   "mimetype": "text/x-python",
   "name": "python",
   "nbconvert_exporter": "python",
   "pygments_lexer": "ipython3",
   "version": "3.7.6"
  }
 },
 "nbformat": 4,
 "nbformat_minor": 4
}
