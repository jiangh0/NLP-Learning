{
 "cells": [
  {
   "cell_type": "code",
   "execution_count": 1,
   "metadata": {},
   "outputs": [
    {
     "data": {
      "text/plain": [
       "' 参考：https://github.com/graykode/nlp-tutorial/blob/master/3-1.TextRNN/TextRNN_Torch.ipynb '"
      ]
     },
     "execution_count": 1,
     "metadata": {},
     "output_type": "execute_result"
    }
   ],
   "source": [
    "import numpy as np\n",
    "import torch\n",
    "import torch.nn as nn\n",
    "import torch.optim as optim\n",
    "from torch.autograd import Variable\n",
    "\n",
    "''' 参考：https://github.com/graykode/nlp-tutorial/blob/master/3-1.TextRNN/TextRNN_Torch.ipynb '''"
   ]
  },
  {
   "cell_type": "code",
   "execution_count": 2,
   "metadata": {},
   "outputs": [],
   "source": [
    "dtype = torch.FloatTensor\n",
    "\n",
    "#原始数据\n",
    "sentences = [ \"i like dog\", \"i love coffee\", \"i hate milk\"]"
   ]
  },
  {
   "cell_type": "code",
   "execution_count": 3,
   "metadata": {},
   "outputs": [],
   "source": [
    "#构造词典\n",
    "word_list = \" \".join(sentences).split()\n",
    "word_list = list(set(word_list))\n",
    "word_dict = {w: i for i, w in enumerate(word_list)}\n",
    "number_dict = {i: w for i, w in enumerate(word_list)}\n",
    "vocab_size = len(word_dict)"
   ]
  },
  {
   "cell_type": "code",
   "execution_count": 4,
   "metadata": {},
   "outputs": [],
   "source": [
    "# TextRNN Parameter\n",
    "batch_size = len(sentences)\n",
    "n_step = 2      # number of cells(= number of Step) 每句话长度\n",
    "hidden_size = 5    # number of hidden units in one cell"
   ]
  },
  {
   "cell_type": "code",
   "execution_count": 5,
   "metadata": {},
   "outputs": [],
   "source": [
    "#将数据划分为batch\n",
    "def make_batch(sentences):\n",
    "    input_batch, target_batch = [], []\n",
    "    for sen in sentences:\n",
    "        word = sen.split()\n",
    "        input = [word_dict[n] for n in word[:-1]]\n",
    "        target = word_dict[word[-1]]\n",
    "\n",
    "        input_batch.append(np.eye(vocab_size)[input])\n",
    "        target_batch.append(target)\n",
    "    return input_batch, target_batch"
   ]
  },
  {
   "cell_type": "code",
   "execution_count": 6,
   "metadata": {},
   "outputs": [],
   "source": [
    "# to Torch.Tensor\n",
    "input_batch, target_batch = make_batch(sentences)\n",
    "input_batch = Variable(torch.Tensor(input_batch))           #【batch_size, n_step, vocab_size】前n-1个单词的one-hot向量\n",
    "target_batch = Variable(torch.LongTensor(target_batch))     #第n个单词index"
   ]
  },
  {
   "cell_type": "code",
   "execution_count": 7,
   "metadata": {},
   "outputs": [],
   "source": [
    "class TextRNN(nn.Module):\n",
    "    def __init__(self, vocab_size, hidden_size):\n",
    "        super().__init__()\n",
    "        self.rnn = nn.RNN(input_size=vocab_size, hidden_size=hidden_size)\n",
    "        self.W = nn.Parameter(torch.randn([hidden_size, vocab_size]).type(dtype))\n",
    "        self.b = nn.Parameter(torch.randn([vocab_size]).type(dtype))\n",
    "\n",
    "    def forward(self, hidden, X):   #hidden:初始隐状态\n",
    "        X = X.permute(1, 0, 2)       #0, 1维度互换  X:[n_step, batch_size, vocab_size]\n",
    "        outputs, hidden = self.rnn(X, hidden)   # outputs : [n_step, batch_size, num_directions(=1) * hidden_size]\n",
    "                                                # hidden(最后时刻隐状态): [num_layers(=1) * num_directions(=1), batch_size, hidden_size]\n",
    "        outputs = outputs[-1]   #取最终时间隐藏状态作为输出\n",
    "        outputs = torch.mm(outputs, self.W) + self.b      #[batch_size, vocab_size]\n",
    "        return outputs"
   ]
  },
  {
   "cell_type": "code",
   "execution_count": 8,
   "metadata": {},
   "outputs": [
    {
     "name": "stdout",
     "output_type": "stream",
     "text": [
      "Epoch: 1000 cost = 0.063719\n",
      "Epoch: 2000 cost = 0.013499\n",
      "Epoch: 3000 cost = 0.005070\n",
      "Epoch: 4000 cost = 0.002362\n",
      "Epoch: 5000 cost = 0.001221\n",
      "Epoch: 6000 cost = 0.000669\n"
     ]
    }
   ],
   "source": [
    "model = TextRNN(vocab_size, hidden_size)\n",
    "criterion = nn.CrossEntropyLoss()\n",
    "optimizer = optim.Adam(model.parameters(), lr=0.001)\n",
    "\n",
    "# Training\n",
    "for epoch in range(6000):\n",
    "    optimizer.zero_grad()\n",
    "    hidden = Variable(torch.zeros(1, batch_size, hidden_size))     #[num_layers(层数), batch_size, hidden_size]\n",
    "    output = model(hidden, input_batch)     # input_batch : [batch_size, n_step, vocab_size]\n",
    "    loss = criterion(output, target_batch)  # output: [batch_size, vocab_size], target_batch:[batch_size] (LongTensor, not one-hot)\n",
    "    loss.backward()\n",
    "    optimizer.step()    \n",
    "    if (epoch + 1) % 1000 == 0:\n",
    "        print('Epoch:', '%04d' % (epoch + 1), 'cost =', '{:.6f}'.format(loss))"
   ]
  },
  {
   "cell_type": "code",
   "execution_count": 9,
   "metadata": {},
   "outputs": [
    {
     "name": "stdout",
     "output_type": "stream",
     "text": [
      "[['i', 'like'], ['i', 'love'], ['i', 'hate']] -> ['dog', 'coffee', 'milk']\n"
     ]
    }
   ],
   "source": [
    "input = [sen.split()[:2] for sen in sentences]\n",
    "\n",
    "# Predict\n",
    "hidden = Variable(torch.zeros(1, batch_size, hidden_size))\n",
    "predict = model(hidden, input_batch).data.max(1, keepdim=True)[1]\n",
    "print([sen.split()[:2] for sen in sentences], '->', [number_dict[n.item()] for n in predict.squeeze()])"
   ]
  },
  {
   "cell_type": "code",
   "execution_count": 10,
   "metadata": {},
   "outputs": [
    {
     "data": {
      "text/plain": [
       "'完成'"
      ]
     },
     "execution_count": 10,
     "metadata": {},
     "output_type": "execute_result"
    }
   ],
   "source": [
    "'''完成'''"
   ]
  },
  {
   "cell_type": "code",
   "execution_count": null,
   "metadata": {},
   "outputs": [],
   "source": []
  }
 ],
 "metadata": {
  "kernelspec": {
   "display_name": "Python 3",
   "language": "python",
   "name": "python3"
  },
  "language_info": {
   "codemirror_mode": {
    "name": "ipython",
    "version": 3
   },
   "file_extension": ".py",
   "mimetype": "text/x-python",
   "name": "python",
   "nbconvert_exporter": "python",
   "pygments_lexer": "ipython3",
   "version": "3.7.6"
  }
 },
 "nbformat": 4,
 "nbformat_minor": 4
}
